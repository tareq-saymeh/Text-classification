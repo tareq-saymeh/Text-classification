{
 "cells": [
  {
   "cell_type": "markdown",
   "metadata": {},
   "source": [
    "# Importing the libraries "
   ]
  },
  {
   "cell_type": "code",
   "execution_count": 1,
   "metadata": {},
   "outputs": [],
   "source": [
    "import pandas as pd\n",
    "import numpy as np\n",
    "import pickle"
   ]
  },
  {
   "cell_type": "code",
   "execution_count": 2,
   "metadata": {},
   "outputs": [],
   "source": [
    "training_df=pd.read_csv(\"./training_df.csv\")\n",
    "testing_df=pd.read_csv(\"./testing_df.csv\")\n"
   ]
  },
  {
   "cell_type": "markdown",
   "metadata": {},
   "source": [
    "# Applying the tf-idf "
   ]
  },
  {
   "cell_type": "code",
   "execution_count": 8,
   "metadata": {},
   "outputs": [],
   "source": [
    "from sklearn.feature_extraction.text import TfidfVectorizer\n",
    "\n",
    "tf_idf_vectorizer = TfidfVectorizer()\n",
    "\n",
    "tf_idf_vectorizer.fit(training_df['Tokens'])\n",
    "tf_idf_training = tf_idf_vectorizer.transform(training_df['Tokens'])\n",
    "tf_idf_testing = tf_idf_vectorizer.transform(testing_df['Tokens'])"
   ]
  },
  {
   "cell_type": "markdown",
   "metadata": {},
   "source": [
    "# Loading the pre-trained word2vec model from the pickle file"
   ]
  },
  {
   "cell_type": "code",
   "execution_count": 4,
   "metadata": {},
   "outputs": [],
   "source": [
    "with open('./word2vec-google-news-300.pkl', 'rb') as file:\n",
    "    word2vec_model = pickle.load(file)"
   ]
  },
  {
   "cell_type": "code",
   "execution_count": 5,
   "metadata": {},
   "outputs": [],
   "source": [
    "import numpy as np\n",
    "def document_vector(word2vec_model, doc):\n",
    "    # Tokenize the document and filter out words not in the Word2Vec vocabulary\n",
    "    words = [word for word in doc.split() if word in word2vec_model.key_to_index]\n",
    "    \n",
    "    # If no words in the doc are in the Word2Vec vocabulary, return a zero vector\n",
    "    if len(words) == 0:\n",
    "        return np.zeros(word2vec_model.vector_size)\n",
    "    \n",
    "    # Compute the document vector as the mean of the word vectors\n",
    "    doc_vector = np.mean(word2vec_model[words], axis=0)\n",
    "    return doc_vector\n",
    "\n",
    "training_doc_vectors = np.array([document_vector(word2vec_model, doc) for doc in training_df['Tokens']])\n",
    "testing_doc_vectors = np.array([document_vector(word2vec_model, doc) for doc in testing_df['Tokens']])"
   ]
  },
  {
   "cell_type": "markdown",
   "metadata": {},
   "source": [
    "Applying feature scaling (standard scaler) on the vectors "
   ]
  },
  {
   "cell_type": "code",
   "execution_count": 6,
   "metadata": {},
   "outputs": [],
   "source": [
    "from sklearn.preprocessing import MinMaxScaler\n",
    "\n",
    "scaler = MinMaxScaler()\n",
    "\n",
    "scaler.fit(training_doc_vectors)\n",
    "\n",
    "# Transform both training and testing data\n",
    "scaled_training_doc_vectors = scaler.transform(training_doc_vectors)\n",
    "scaled_testing_doc_vectors = scaler.transform(testing_doc_vectors)"
   ]
  },
  {
   "cell_type": "markdown",
   "metadata": {},
   "source": [
    "# Merging the features "
   ]
  },
  {
   "cell_type": "code",
   "execution_count": 10,
   "metadata": {},
   "outputs": [],
   "source": [
    "from scipy.sparse import csr_matrix\n",
    "\n",
    "# Convert Word2Vec features to CSR format\n",
    "training_doc_vectors_csr = csr_matrix(scaled_training_doc_vectors)\n",
    "testing_doc_vectors_csr = csr_matrix(scaled_testing_doc_vectors)\n",
    "\n",
    "# Combine TF-IDF and Word2Vec features for training data\n",
    "X_train_combined = csr_matrix((tf_idf_training.shape[0], tf_idf_training.shape[1] + training_doc_vectors_csr.shape[1]))\n",
    "X_train_combined[:, :tf_idf_training.shape[1]] = tf_idf_training\n",
    "X_train_combined[:, tf_idf_training.shape[1]:] = training_doc_vectors_csr\n",
    "\n",
    "\n",
    "# Combine TF-IDF and Word2Vec features for testing data\n",
    "X_test_combined = csr_matrix((tf_idf_testing.shape[0], tf_idf_testing.shape[1] + testing_doc_vectors_csr.shape[1]))\n",
    "X_test_combined[:, :tf_idf_testing.shape[1]] = tf_idf_testing\n",
    "X_test_combined[:, tf_idf_testing.shape[1]:] = testing_doc_vectors_csr"
   ]
  },
  {
   "cell_type": "code",
   "execution_count": 11,
   "metadata": {},
   "outputs": [],
   "source": [
    "y_train = training_df['Class'].values\n",
    "y_test = testing_df['Class'].values\n"
   ]
  },
  {
   "cell_type": "markdown",
   "metadata": {},
   "source": [
    "# Applying the machine learning algorithms on a single feature "
   ]
  },
  {
   "cell_type": "markdown",
   "metadata": {},
   "source": [
    "applying the naive bayes algorithm on the tf-idf "
   ]
  },
  {
   "cell_type": "code",
   "execution_count": null,
   "metadata": {},
   "outputs": [
    {
     "name": "stdout",
     "output_type": "stream",
     "text": [
      "F1 Score (TF-IDF): 0.03779686385139291\n"
     ]
    }
   ],
   "source": [
    "from sklearn.naive_bayes import MultinomialNB\n",
    "from sklearn.metrics import f1_score\n",
    "\n",
    "nb_classifier = MultinomialNB()\n",
    "\n",
    "nb_classifier.fit(tf_idf_training, y_train)\n",
    "\n",
    "y_pred_tfidf = nb_classifier.predict(tf_idf_testing)\n",
    "\n",
    "f1_tfidf = f1_score(y_test, y_pred_tfidf, average='macro')\n",
    "print(f'F1 Score (TF-IDF): {f1_tfidf}')\n"
   ]
  },
  {
   "cell_type": "markdown",
   "metadata": {},
   "source": [
    "applying the naive bayes on the word embedding  "
   ]
  },
  {
   "cell_type": "code",
   "execution_count": 14,
   "metadata": {},
   "outputs": [
    {
     "name": "stdout",
     "output_type": "stream",
     "text": [
      "F1 Score (Word2Vec): 0.03014145878299118\n"
     ]
    }
   ],
   "source": [
    "from sklearn.naive_bayes import MultinomialNB\n",
    "from sklearn.metrics import f1_score\n",
    "\n",
    "nb_classifier = MultinomialNB()\n",
    "\n",
    "nb_classifier.fit(scaled_training_doc_vectors, y_train)\n",
    "\n",
    "y_pred_word2vec = nb_classifier.predict(scaled_testing_doc_vectors)\n",
    "\n",
    "f1_word2vec = f1_score(y_test, y_pred_word2vec, average='macro')\n",
    "print(f'F1 Score (Word2Vec): {f1_word2vec}')\n"
   ]
  },
  {
   "cell_type": "markdown",
   "metadata": {},
   "source": [
    "Applying the naive bayes algorithm on both features "
   ]
  },
  {
   "cell_type": "code",
   "execution_count": 62,
   "metadata": {},
   "outputs": [
    {
     "name": "stdout",
     "output_type": "stream",
     "text": [
      "F1 Score (TF-IDF): 0.01719166702790167\n"
     ]
    }
   ],
   "source": [
    "from sklearn.naive_bayes import MultinomialNB\n",
    "from sklearn.metrics import f1_score\n",
    "\n",
    "nb_classifier = MultinomialNB()\n",
    "\n",
    "nb_classifier.fit(X_train_combined, y_train)\n",
    "\n",
    "y_pred_both = nb_classifier.predict(X_test_combined)\n",
    "\n",
    "f1_both = f1_score(y_test, y_pred_both, average='macro')\n",
    "print(f'F1 Score (TF-IDF): {f1_both}')\n"
   ]
  },
  {
   "cell_type": "markdown",
   "metadata": {},
   "source": [
    "applying the LogisticRegression algorithm on tf_idf feature"
   ]
  },
  {
   "cell_type": "code",
   "execution_count": 63,
   "metadata": {},
   "outputs": [
    {
     "name": "stdout",
     "output_type": "stream",
     "text": [
      "F1 Score (TF-IDF): 0.011454557493862661\n"
     ]
    }
   ],
   "source": [
    "from sklearn.linear_model import LogisticRegression\n",
    "from sklearn.metrics import f1_score\n",
    "\n",
    "# Initialize the Logistic Regression classifier\n",
    "lr_classifier = LogisticRegression(max_iter=1000)\n",
    "\n",
    "# Train the classifier using TF-IDF features alone\n",
    "lr_classifier.fit(tfidf_training_matrix, y_train)\n",
    "\n",
    "# Predict on the test set using TF-IDF features alone\n",
    "y_pred_tfidf = lr_classifier.predict(tfidf_testing_matrix)\n",
    "\n",
    "# Evaluate the model using the F1 score with TF-IDF features alone\n",
    "f1_tfidf = f1_score(y_test, y_pred_tfidf, average='macro')\n",
    "print(f'F1 Score (TF-IDF): {f1_tfidf}')\n"
   ]
  },
  {
   "cell_type": "markdown",
   "metadata": {},
   "source": [
    "applying the LogisticRegression algorithm on word embedding feature"
   ]
  },
  {
   "cell_type": "code",
   "execution_count": 64,
   "metadata": {},
   "outputs": [
    {
     "name": "stdout",
     "output_type": "stream",
     "text": [
      "F1 Score (Word2Vec): 0.11540709760731548\n"
     ]
    }
   ],
   "source": [
    "lr_classifier = LogisticRegression(max_iter=1000)\n",
    "\n",
    "lr_classifier.fit(training_doc_vectors, y_train)\n",
    "y_pred_word2vec = lr_classifier.predict(testing_doc_vectors)\n",
    "f1_word2vec = f1_score(y_test, y_pred_word2vec, average='macro')\n",
    "\n",
    "print(f'F1 Score (Word2Vec): {f1_word2vec}')\n"
   ]
  },
  {
   "cell_type": "markdown",
   "metadata": {},
   "source": [
    "applying the LogisticRegression algorithm on both features"
   ]
  },
  {
   "cell_type": "code",
   "execution_count": 65,
   "metadata": {},
   "outputs": [
    {
     "name": "stderr",
     "output_type": "stream",
     "text": [
      "C:\\Users\\USER\\AppData\\Local\\Packages\\PythonSoftwareFoundation.Python.3.11_qbz5n2kfra8p0\\LocalCache\\local-packages\\Python311\\site-packages\\sklearn\\linear_model\\_logistic.py:460: ConvergenceWarning: lbfgs failed to converge (status=1):\n",
      "STOP: TOTAL NO. of ITERATIONS REACHED LIMIT.\n",
      "\n",
      "Increase the number of iterations (max_iter) or scale the data as shown in:\n",
      "    https://scikit-learn.org/stable/modules/preprocessing.html\n",
      "Please also refer to the documentation for alternative solver options:\n",
      "    https://scikit-learn.org/stable/modules/linear_model.html#logistic-regression\n",
      "  n_iter_i = _check_optimize_result(\n"
     ]
    },
    {
     "name": "stdout",
     "output_type": "stream",
     "text": [
      "F1 Score (both for log reg): 0.29358370987457877\n"
     ]
    }
   ],
   "source": [
    "lr_classifier.fit(X_train_combined, y_train)\n",
    "y_pred_both_log = lr_classifier.predict(X_test_combined)\n",
    "f1_both_log = f1_score(y_test, y_pred_both_log, average='macro')\n",
    "\n",
    "print(f'F1 Score (both for log reg): {f1_both_log}')\n"
   ]
  },
  {
   "cell_type": "markdown",
   "metadata": {},
   "source": [
    "applying the SVM algorithm on tf_idf feature"
   ]
  },
  {
   "cell_type": "code",
   "execution_count": 66,
   "metadata": {},
   "outputs": [
    {
     "name": "stdout",
     "output_type": "stream",
     "text": [
      "F1 Score (TF-IDF with SVM): 0.012087712004266992\n"
     ]
    }
   ],
   "source": [
    "from sklearn.svm import SVC\n",
    "from sklearn.ensemble import RandomForestClassifier\n",
    "from sklearn.metrics import f1_score\n",
    "\n",
    "svm_classifier = SVC()\n",
    "svm_classifier.fit(tf_idf_training, y_train)\n",
    "y_pred_tfidf_svm = svm_classifier.predict(tf_idf_testing)\n",
    "f1_tfidf_svm = f1_score(y_test, y_pred_tfidf_svm, average='macro')\n",
    "\n",
    "print(f'F1 Score (TF-IDF with SVM): {f1_tfidf_svm}')"
   ]
  },
  {
   "cell_type": "markdown",
   "metadata": {},
   "source": [
    "applying the SVM algorithm on word embedding feature"
   ]
  },
  {
   "cell_type": "code",
   "execution_count": 67,
   "metadata": {},
   "outputs": [
    {
     "name": "stdout",
     "output_type": "stream",
     "text": [
      "F1 Score (Word2Vec with SVM): 0.16426533999270984\n"
     ]
    }
   ],
   "source": [
    "svm_classifier.fit(training_doc_vectors, y_train)\n",
    "\n",
    "# Predict on the test set using Word2Vec features alone\n",
    "y_pred_word2vec_svm = svm_classifier.predict(testing_doc_vectors)\n",
    "\n",
    "# Evaluate the model using the F1 score with Word2Vec features alone\n",
    "f1_word2vec_svm = f1_score(y_test, y_pred_word2vec_svm, average='macro')\n",
    "print(f'F1 Score (Word2Vec with SVM): {f1_word2vec_svm}')"
   ]
  },
  {
   "cell_type": "markdown",
   "metadata": {},
   "source": [
    "applying the SVM algorithm on both features"
   ]
  },
  {
   "cell_type": "code",
   "execution_count": 68,
   "metadata": {},
   "outputs": [
    {
     "name": "stdout",
     "output_type": "stream",
     "text": [
      "F1 Score (TF-IDF with SVM): 0.09028871786045488\n"
     ]
    }
   ],
   "source": [
    "svm_classifier.fit(X_train_combined, y_train)\n",
    "y_pred_both_svm = svm_classifier.predict(X_test_combined)\n",
    "f1_both_svm = f1_score(y_test, y_pred_both_svm, average='macro')\n",
    "\n",
    "print(f'F1 Score (TF-IDF with SVM): {f1_both_svm}')"
   ]
  },
  {
   "cell_type": "markdown",
   "metadata": {},
   "source": [
    "applying the RandomForest algorithm on tf idf feature "
   ]
  },
  {
   "cell_type": "code",
   "execution_count": 69,
   "metadata": {},
   "outputs": [
    {
     "name": "stdout",
     "output_type": "stream",
     "text": [
      "F1 Score (TF-IDF with Random Forest): 0.011562898027323609\n"
     ]
    }
   ],
   "source": [
    "# Initialize the Random Forest classifier\n",
    "rf_classifier = RandomForestClassifier()\n",
    "\n",
    "# Train the classifier using TF-IDF features alone\n",
    "rf_classifier.fit(tf_idf_training, y_train)\n",
    "\n",
    "# Predict on the test set using TF-IDF features alone\n",
    "y_pred_tfidf_rf = rf_classifier.predict(tf_idf_testing)\n",
    "\n",
    "# Evaluate the model using the F1 score with TF-IDF features alone\n",
    "f1_tfidf_rf = f1_score(y_test, y_pred_tfidf_rf, average='macro')\n",
    "print(f'F1 Score (TF-IDF with Random Forest): {f1_tfidf_rf}')\n"
   ]
  },
  {
   "cell_type": "markdown",
   "metadata": {},
   "source": [
    "applying the RandomForest algorithm on word embedding feature "
   ]
  },
  {
   "cell_type": "code",
   "execution_count": 70,
   "metadata": {},
   "outputs": [
    {
     "name": "stdout",
     "output_type": "stream",
     "text": [
      "F1 Score (Word2Vec with Random Forest): 0.14618659502070733\n"
     ]
    }
   ],
   "source": [
    "rf_classifier.fit(training_doc_vectors, y_train)\n",
    "\n",
    "# Predict on the test set using Word2Vec features alone\n",
    "y_pred_word2vec_rf = rf_classifier.predict(testing_doc_vectors)\n",
    "\n",
    "# Evaluate the model using the F1 score with Word2Vec features alone\n",
    "f1_word2vec_rf = f1_score(y_test, y_pred_word2vec_rf, average='macro')\n",
    "print(f'F1 Score (Word2Vec with Random Forest): {f1_word2vec_rf}')"
   ]
  },
  {
   "cell_type": "markdown",
   "metadata": {},
   "source": [
    "applying the RandomForest algorithm on both features"
   ]
  },
  {
   "cell_type": "code",
   "execution_count": 120,
   "metadata": {},
   "outputs": [
    {
     "ename": "NameError",
     "evalue": "name 'rf_classifier' is not defined",
     "output_type": "error",
     "traceback": [
      "\u001b[1;31m---------------------------------------------------------------------------\u001b[0m",
      "\u001b[1;31mNameError\u001b[0m                                 Traceback (most recent call last)",
      "Cell \u001b[1;32mIn[120], line 1\u001b[0m\n\u001b[1;32m----> 1\u001b[0m \u001b[43mrf_classifier\u001b[49m\u001b[38;5;241m.\u001b[39mfit(X_train_combined, y_train)\n\u001b[0;32m      3\u001b[0m \u001b[38;5;66;03m# Predict on the test set using Word2Vec features alone\u001b[39;00m\n\u001b[0;32m      4\u001b[0m y_pred_both_rf \u001b[38;5;241m=\u001b[39m rf_classifier\u001b[38;5;241m.\u001b[39mpredict(X_test_combined)\n",
      "\u001b[1;31mNameError\u001b[0m: name 'rf_classifier' is not defined"
     ]
    }
   ],
   "source": [
    "rf_classifier.fit(X_train_combined, y_train)\n",
    "\n",
    "# Predict on the test set using Word2Vec features alone\n",
    "y_pred_both_rf = rf_classifier.predict(X_test_combined)\n",
    "\n",
    "# Evaluate the model using the F1 score with Word2Vec features alone\n",
    "f1_both_rf = f1_score(y_test, y_pred_word2vec_rf, average='macro')\n",
    "print(f'F1 Score (both features with Random Forest): {f1_both_rf}')"
   ]
  },
  {
   "cell_type": "code",
   "execution_count": 15,
   "metadata": {},
   "outputs": [],
   "source": [
    "from tensorflow.keras.preprocessing.sequence import pad_sequences\n",
    "from tensorflow.keras.models import Sequential  \n",
    "import numpy as np\n",
    "from sklearn.metrics import f1_score\n",
    "from sklearn.preprocessing import LabelEncoder\n",
    "\n",
    "# Example setup\n",
    "tokenizer = Tokenizer(num_words=5000)\n",
    "tokenizer.fit_on_texts(training_texts)  \n",
    "test_sequences = tokenizer.texts_to_sequences(testing_df[\"Tokens\"])\n",
    "x_test = pad_sequences(test_sequences, maxlen=100)"
   ]
  },
  {
   "cell_type": "code",
   "execution_count": 22,
   "metadata": {},
   "outputs": [],
   "source": [
    "\n",
    "tokenizer = Tokenizer(num_words=5000)\n",
    "tokenizer.fit_on_texts(training_df[\"Tokens\"])  \n",
    "test_sequences = tokenizer.texts_to_sequences(testing_df[\"Tokens\"])\n",
    "x_test = pad_sequences(test_sequences, maxlen=100)\n",
    "\n",
    "train_sequences = tokenizer.texts_to_sequences(training_df[\"Tokens\"])\n",
    "x_train = pad_sequences(train_sequences, maxlen=100)\n"
   ]
  },
  {
   "cell_type": "code",
   "execution_count": 23,
   "metadata": {},
   "outputs": [
    {
     "name": "stderr",
     "output_type": "stream",
     "text": [
      "C:\\Users\\USER\\AppData\\Local\\Packages\\PythonSoftwareFoundation.Python.3.11_qbz5n2kfra8p0\\LocalCache\\local-packages\\Python311\\site-packages\\keras\\src\\layers\\core\\embedding.py:86: UserWarning: Argument `input_length` is deprecated. Just remove it.\n",
      "  warnings.warn(\n"
     ]
    }
   ],
   "source": [
    "from tensorflow.keras.models import Sequential\n",
    "from tensorflow.keras.layers import Embedding, LSTM, Dense\n",
    "\n",
    "num_classes = np.unique(y_train).size \n",
    "\n",
    "# Define your LSTM model\n",
    "model = Sequential()\n",
    "model.add(Embedding(input_dim=5000, output_dim=128, input_length=100))\n",
    "model.add(LSTM(128))\n",
    "model.add(Dense(num_classes, activation='softmax')) \n",
    "model.compile(optimizer='adam', loss='categorical_crossentropy', metrics=['accuracy'])\n"
   ]
  },
  {
   "cell_type": "code",
   "execution_count": 24,
   "metadata": {},
   "outputs": [],
   "source": [
    "from sklearn.preprocessing import LabelEncoder\n",
    "from tensorflow.keras.utils import to_categorical\n",
    "\n",
    "label_encoder = LabelEncoder()\n",
    "y_train_encoded = label_encoder.fit_transform(y_train)\n",
    "y_train_one_hot = to_categorical(y_train_encoded, num_classes=91)  \n",
    "label_encoder = LabelEncoder()\n",
    "y_test_encoded = label_encoder.fit_transform(y_test) "
   ]
  },
  {
   "cell_type": "code",
   "execution_count": 25,
   "metadata": {},
   "outputs": [
    {
     "name": "stdout",
     "output_type": "stream",
     "text": [
      "Epoch 1/5\n",
      "\u001b[1m8/8\u001b[0m \u001b[32m━━━━━━━━━━━━━━━━━━━━\u001b[0m\u001b[37m\u001b[0m \u001b[1m14s\u001b[0m 1s/step - accuracy: 0.2045 - loss: 4.4420\n",
      "Epoch 2/5\n",
      "\u001b[1m8/8\u001b[0m \u001b[32m━━━━━━━━━━━━━━━━━━━━\u001b[0m\u001b[37m\u001b[0m \u001b[1m9s\u001b[0m 1s/step - accuracy: 0.2487 - loss: 3.3279\n",
      "Epoch 3/5\n",
      "\u001b[1m8/8\u001b[0m \u001b[32m━━━━━━━━━━━━━━━━━━━━\u001b[0m\u001b[37m\u001b[0m \u001b[1m9s\u001b[0m 1s/step - accuracy: 0.3265 - loss: 2.8940\n",
      "Epoch 4/5\n",
      "\u001b[1m8/8\u001b[0m \u001b[32m━━━━━━━━━━━━━━━━━━━━\u001b[0m\u001b[37m\u001b[0m \u001b[1m9s\u001b[0m 1s/step - accuracy: 0.3315 - loss: 2.6943\n",
      "Epoch 5/5\n",
      "\u001b[1m8/8\u001b[0m \u001b[32m━━━━━━━━━━━━━━━━━━━━\u001b[0m\u001b[37m\u001b[0m \u001b[1m9s\u001b[0m 1s/step - accuracy: 0.3546 - loss: 2.5540\n"
     ]
    },
    {
     "data": {
      "text/plain": [
       "<keras.src.callbacks.history.History at 0x24fddfe3ed0>"
      ]
     },
     "execution_count": 25,
     "metadata": {},
     "output_type": "execute_result"
    }
   ],
   "source": [
    "model.fit(x_train, y_train_one_hot, batch_size=1500, epochs=5)\n"
   ]
  },
  {
   "cell_type": "code",
   "execution_count": 26,
   "metadata": {},
   "outputs": [
    {
     "name": "stdout",
     "output_type": "stream",
     "text": [
      "\u001b[1m126/126\u001b[0m \u001b[32m━━━━━━━━━━━━━━━━━━━━\u001b[0m\u001b[37m\u001b[0m \u001b[1m4s\u001b[0m 31ms/step\n",
      "F1 Score (LSTM Network): 0.016838948822817355\n"
     ]
    }
   ],
   "source": [
    "\n",
    "y_pred_lstm_probs = model.predict(x_test)\n",
    "y_pred_lstm = np.argmax(y_pred_lstm_probs, axis=1)\n",
    "\n",
    "f1_lstm = f1_score(y_test_encoded, y_pred_lstm, average='macro')\n",
    "print(f'F1 Score (LSTM Network): {f1_lstm}')\n"
   ]
  },
  {
   "cell_type": "code",
   "execution_count": null,
   "metadata": {},
   "outputs": [],
   "source": []
  }
 ],
 "metadata": {
  "kernelspec": {
   "display_name": "Python 3",
   "language": "python",
   "name": "python3"
  },
  "language_info": {
   "codemirror_mode": {
    "name": "ipython",
    "version": 3
   },
   "file_extension": ".py",
   "mimetype": "text/x-python",
   "name": "python",
   "nbconvert_exporter": "python",
   "pygments_lexer": "ipython3",
   "version": "3.11.9"
  }
 },
 "nbformat": 4,
 "nbformat_minor": 2
}
